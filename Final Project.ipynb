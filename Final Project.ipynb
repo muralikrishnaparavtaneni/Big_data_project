{
 "cells": [
  {
   "cell_type": "markdown",
   "id": "14d97934",
   "metadata": {},
   "source": [
    "### Importing pyspark packages"
   ]
  },
  {
   "cell_type": "code",
   "execution_count": 1,
   "id": "d4ee7916",
   "metadata": {},
   "outputs": [],
   "source": [
    "from pyspark import SparkContext\n",
    "sc = SparkContext()"
   ]
  },
  {
   "cell_type": "code",
   "execution_count": 3,
   "id": "074b6b32",
   "metadata": {},
   "outputs": [],
   "source": [
    "import pandas\n",
    "from pyspark.sql import SparkSession\n",
    "\n",
    "spark = SparkSession.builder.appName(\"big data\").config(\"spark.some.config.option\", \"some-value\").getOrCreate()"
   ]
  },
  {
   "cell_type": "markdown",
   "id": "646741a5",
   "metadata": {},
   "source": [
    "### Importing additional packages required"
   ]
  },
  {
   "cell_type": "code",
   "execution_count": 25,
   "id": "51563326",
   "metadata": {},
   "outputs": [],
   "source": [
    "import numpy as np\n",
    "import pandas as pd\n",
    "import random\n",
    "import matplotlib.pyplot as plt\n",
    "import seaborn as sns\n",
    "import plotly.graph_objects as go\n",
    "import plotly.express as px\n",
    "import plotly.figure_factory as ff\n",
    "%matplotlib inline"
   ]
  },
  {
   "cell_type": "code",
   "execution_count": 4,
   "id": "9cb6602a",
   "metadata": {},
   "outputs": [],
   "source": [
    "file_path = \"/home/muparv/Desktop/marketing_campaign.csv\""
   ]
  },
  {
   "cell_type": "markdown",
   "id": "1426d879",
   "metadata": {},
   "source": [
    "### Reading the data"
   ]
  },
  {
   "cell_type": "code",
   "execution_count": 63,
   "id": "2f8303b8",
   "metadata": {},
   "outputs": [],
   "source": [
    "df = spark.read.csv(file_path, header=True, sep = '\\t')"
   ]
  },
  {
   "cell_type": "code",
   "execution_count": 64,
   "id": "10f734f3",
   "metadata": {},
   "outputs": [
    {
     "data": {
      "text/plain": [
       "2240"
      ]
     },
     "execution_count": 64,
     "metadata": {},
     "output_type": "execute_result"
    }
   ],
   "source": [
    "df.count()"
   ]
  },
  {
   "cell_type": "code",
   "execution_count": 65,
   "id": "106dc4f8",
   "metadata": {},
   "outputs": [
    {
     "name": "stdout",
     "output_type": "stream",
     "text": [
      "+----+----------+----------+--------------+------+-------+--------+-----------+-------+--------+---------+---------------+---------------+----------------+------------+-----------------+---------------+-------------------+-----------------+-----------------+------------+------------+------------+------------+------------+--------+-------------+---------+--------+\n",
      "|  ID|Year_Birth| Education|Marital_Status|Income|Kidhome|Teenhome|Dt_Customer|Recency|MntWines|MntFruits|MntMeatProducts|MntFishProducts|MntSweetProducts|MntGoldProds|NumDealsPurchases|NumWebPurchases|NumCatalogPurchases|NumStorePurchases|NumWebVisitsMonth|AcceptedCmp3|AcceptedCmp4|AcceptedCmp5|AcceptedCmp1|AcceptedCmp2|Complain|Z_CostContact|Z_Revenue|Response|\n",
      "+----+----------+----------+--------------+------+-------+--------+-----------+-------+--------+---------+---------------+---------------+----------------+------------+-----------------+---------------+-------------------+-----------------+-----------------+------------+------------+------------+------------+------------+--------+-------------+---------+--------+\n",
      "|5524|      1957|Graduation|        Single| 58138|      0|       0| 04-09-2012|     58|     635|       88|            546|            172|              88|          88|                3|              8|                 10|                4|                7|           0|           0|           0|           0|           0|       0|            3|       11|       1|\n",
      "|2174|      1954|Graduation|        Single| 46344|      1|       1| 08-03-2014|     38|      11|        1|              6|              2|               1|           6|                2|              1|                  1|                2|                5|           0|           0|           0|           0|           0|       0|            3|       11|       0|\n",
      "|4141|      1965|Graduation|      Together| 71613|      0|       0| 21-08-2013|     26|     426|       49|            127|            111|              21|          42|                1|              8|                  2|               10|                4|           0|           0|           0|           0|           0|       0|            3|       11|       0|\n",
      "|6182|      1984|Graduation|      Together| 26646|      1|       0| 10-02-2014|     26|      11|        4|             20|             10|               3|           5|                2|              2|                  0|                4|                6|           0|           0|           0|           0|           0|       0|            3|       11|       0|\n",
      "|5324|      1981|       PhD|       Married| 58293|      1|       0| 19-01-2014|     94|     173|       43|            118|             46|              27|          15|                5|              5|                  3|                6|                5|           0|           0|           0|           0|           0|       0|            3|       11|       0|\n",
      "+----+----------+----------+--------------+------+-------+--------+-----------+-------+--------+---------+---------------+---------------+----------------+------------+-----------------+---------------+-------------------+-----------------+-----------------+------------+------------+------------+------------+------------+--------+-------------+---------+--------+\n",
      "only showing top 5 rows\n",
      "\n"
     ]
    }
   ],
   "source": [
    "df.show(5)"
   ]
  },
  {
   "cell_type": "code",
   "execution_count": 66,
   "id": "bf53975c",
   "metadata": {},
   "outputs": [
    {
     "data": {
      "text/plain": [
       "['ID',\n",
       " 'Year_Birth',\n",
       " 'Education',\n",
       " 'Marital_Status',\n",
       " 'Income',\n",
       " 'Kidhome',\n",
       " 'Teenhome',\n",
       " 'Dt_Customer',\n",
       " 'Recency',\n",
       " 'MntWines',\n",
       " 'MntFruits',\n",
       " 'MntMeatProducts',\n",
       " 'MntFishProducts',\n",
       " 'MntSweetProducts',\n",
       " 'MntGoldProds',\n",
       " 'NumDealsPurchases',\n",
       " 'NumWebPurchases',\n",
       " 'NumCatalogPurchases',\n",
       " 'NumStorePurchases',\n",
       " 'NumWebVisitsMonth',\n",
       " 'AcceptedCmp3',\n",
       " 'AcceptedCmp4',\n",
       " 'AcceptedCmp5',\n",
       " 'AcceptedCmp1',\n",
       " 'AcceptedCmp2',\n",
       " 'Complain',\n",
       " 'Z_CostContact',\n",
       " 'Z_Revenue',\n",
       " 'Response']"
      ]
     },
     "execution_count": 66,
     "metadata": {},
     "output_type": "execute_result"
    }
   ],
   "source": [
    "df.columns"
   ]
  },
  {
   "cell_type": "markdown",
   "id": "08fa9543",
   "metadata": {},
   "source": [
    "### Finding the average income level of customers based on education level"
   ]
  },
  {
   "cell_type": "code",
   "execution_count": 17,
   "id": "008fc65c",
   "metadata": {},
   "outputs": [],
   "source": [
    "from pyspark.sql.functions import col, avg"
   ]
  },
  {
   "cell_type": "code",
   "execution_count": 31,
   "id": "904fda22",
   "metadata": {},
   "outputs": [],
   "source": [
    "df_avg_income_education_level = df.groupby(\"Education\").agg(avg(col(\"Income\")))"
   ]
  },
  {
   "cell_type": "code",
   "execution_count": 32,
   "id": "9f167f87",
   "metadata": {},
   "outputs": [
    {
     "name": "stdout",
     "output_type": "stream",
     "text": [
      "+----------+-----------------+\n",
      "| Education|      avg(Income)|\n",
      "+----------+-----------------+\n",
      "|  2n Cycle|         47633.19|\n",
      "|       PhD|56145.31392931393|\n",
      "|    Master|52917.53424657534|\n",
      "|Graduation|52720.37365591398|\n",
      "|     Basic|20306.25925925926|\n",
      "+----------+-----------------+\n",
      "\n"
     ]
    }
   ],
   "source": [
    "df_avg_income_education_level.show()"
   ]
  },
  {
   "cell_type": "markdown",
   "id": "e13d996b",
   "metadata": {},
   "source": [
    "### Finding the average age for each education level, Marital status"
   ]
  },
  {
   "cell_type": "code",
   "execution_count": 41,
   "id": "3d523770",
   "metadata": {},
   "outputs": [],
   "source": [
    "df_avg_income_education_marital_level = df.groupby(\"Education\",\"Marital_Status\").agg(avg(col(\"Income\")))"
   ]
  },
  {
   "cell_type": "code",
   "execution_count": 42,
   "id": "ae34766e",
   "metadata": {},
   "outputs": [
    {
     "name": "stdout",
     "output_type": "stream",
     "text": [
      "+----------+--------------+------------------+\n",
      "| Education|Marital_Status|       avg(Income)|\n",
      "+----------+--------------+------------------+\n",
      "|    Master|        Absurd|           65487.0|\n",
      "|       PhD|        Single|53314.614583333336|\n",
      "|    Master|       Married| 53286.02898550725|\n",
      "|       PhD|       Married| 58138.03157894737|\n",
      "|     Basic|       Married|           21960.5|\n",
      "|     Basic|        Single|18238.666666666668|\n",
      "|    Master|         Alone|           61331.0|\n",
      "|       PhD|      Divorced| 53096.61538461538|\n",
      "|    Master|      Together|52109.009803921566|\n",
      "|       PhD|      Together|  56041.4224137931|\n",
      "|       PhD|         Alone|           35860.0|\n",
      "|     Basic|      Divorced|            9548.0|\n",
      "|  2n Cycle|      Together| 44736.41071428572|\n",
      "|     Basic|      Together|21240.071428571428|\n",
      "|Graduation|         Alone|           34176.0|\n",
      "|Graduation|        Single| 51322.18292682927|\n",
      "|Graduation|        Absurd|           79244.0|\n",
      "|       PhD|         Widow|60288.083333333336|\n",
      "|  2n Cycle|       Married|           46201.1|\n",
      "|Graduation|      Divorced| 54526.04201680672|\n",
      "+----------+--------------+------------------+\n",
      "only showing top 20 rows\n",
      "\n"
     ]
    }
   ],
   "source": [
    "df_avg_income_education_marital_level.show()"
   ]
  },
  {
   "cell_type": "code",
   "execution_count": 128,
   "id": "3a0b720c",
   "metadata": {},
   "outputs": [
    {
     "data": {
      "text/plain": [
       "ID                     2240\n",
       "Year_Birth             2240\n",
       "Education              2240\n",
       "Marital_Status         2240\n",
       "Income                 2216\n",
       "Kidhome                2240\n",
       "Teenhome               2240\n",
       "Dt_Customer            2240\n",
       "Recency                2240\n",
       "MntWines               2240\n",
       "MntFruits              2240\n",
       "MntMeatProducts        2240\n",
       "MntFishProducts        2240\n",
       "MntSweetProducts       2240\n",
       "MntGoldProds           2240\n",
       "NumDealsPurchases      2240\n",
       "NumWebPurchases        2240\n",
       "NumCatalogPurchases    2240\n",
       "NumStorePurchases      2240\n",
       "NumWebVisitsMonth      2240\n",
       "AcceptedCmp3           2240\n",
       "AcceptedCmp4           2240\n",
       "AcceptedCmp5           2240\n",
       "AcceptedCmp1           2240\n",
       "AcceptedCmp2           2240\n",
       "Complain               2240\n",
       "Z_CostContact          2240\n",
       "Z_Revenue              2240\n",
       "Response               2240\n",
       "dtype: int64"
      ]
     },
     "execution_count": 128,
     "metadata": {},
     "output_type": "execute_result"
    }
   ],
   "source": [
    "df = pd.read_csv(\"marketing_campaign.csv\", sep='\\t')\n",
    "df.count()"
   ]
  },
  {
   "cell_type": "code",
   "execution_count": 129,
   "id": "c8256487",
   "metadata": {},
   "outputs": [
    {
     "data": {
      "text/plain": [
       "ID                     2216\n",
       "Year_Birth             2216\n",
       "Education              2216\n",
       "Marital_Status         2216\n",
       "Income                 2216\n",
       "Kidhome                2216\n",
       "Teenhome               2216\n",
       "Dt_Customer            2216\n",
       "Recency                2216\n",
       "MntWines               2216\n",
       "MntFruits              2216\n",
       "MntMeatProducts        2216\n",
       "MntFishProducts        2216\n",
       "MntSweetProducts       2216\n",
       "MntGoldProds           2216\n",
       "NumDealsPurchases      2216\n",
       "NumWebPurchases        2216\n",
       "NumCatalogPurchases    2216\n",
       "NumStorePurchases      2216\n",
       "NumWebVisitsMonth      2216\n",
       "AcceptedCmp3           2216\n",
       "AcceptedCmp4           2216\n",
       "AcceptedCmp5           2216\n",
       "AcceptedCmp1           2216\n",
       "AcceptedCmp2           2216\n",
       "Complain               2216\n",
       "Z_CostContact          2216\n",
       "Z_Revenue              2216\n",
       "Response               2216\n",
       "dtype: int64"
      ]
     },
     "execution_count": 129,
     "metadata": {},
     "output_type": "execute_result"
    }
   ],
   "source": [
    "df = df.dropna()\n",
    "df.count()"
   ]
  },
  {
   "cell_type": "markdown",
   "id": "f1075ca5",
   "metadata": {},
   "source": [
    "### 24 rows with na are removed from df"
   ]
  },
  {
   "cell_type": "code",
   "execution_count": 130,
   "id": "01849099",
   "metadata": {},
   "outputs": [
    {
     "data": {
      "text/plain": [
       "Index(['ID', 'Year_Birth', 'Education', 'Marital_Status', 'Income', 'Kidhome',\n",
       "       'Teenhome', 'Dt_Customer', 'Recency', 'MntWines', 'MntFruits',\n",
       "       'MntMeatProducts', 'MntFishProducts', 'MntSweetProducts',\n",
       "       'MntGoldProds', 'NumDealsPurchases', 'NumWebPurchases',\n",
       "       'NumCatalogPurchases', 'NumStorePurchases', 'NumWebVisitsMonth',\n",
       "       'AcceptedCmp3', 'AcceptedCmp4', 'AcceptedCmp5', 'AcceptedCmp1',\n",
       "       'AcceptedCmp2', 'Complain', 'Z_CostContact', 'Z_Revenue', 'Response'],\n",
       "      dtype='object')"
      ]
     },
     "execution_count": 130,
     "metadata": {},
     "output_type": "execute_result"
    }
   ],
   "source": [
    "df.columns"
   ]
  },
  {
   "cell_type": "markdown",
   "id": "6bed249e",
   "metadata": {},
   "source": [
    "### Extracting the columns required for the analysis"
   ]
  },
  {
   "cell_type": "code",
   "execution_count": 131,
   "id": "63c18dab",
   "metadata": {},
   "outputs": [],
   "source": [
    "df = df[[\"Year_Birth\",\"Response\",\"Income\",\"NumWebVisitsMonth\", \"Dt_Customer\", \"Kidhome\", \"Teenhome\", \"MntMeatProducts\", \"MntFishProducts\", \"MntSweetProducts\", \"Marital_Status\", \"Education\"]]"
   ]
  },
  {
   "cell_type": "code",
   "execution_count": 132,
   "id": "87354126",
   "metadata": {},
   "outputs": [
    {
     "data": {
      "text/plain": [
       "Index(['Year_Birth', 'Response', 'Income', 'NumWebVisitsMonth', 'Dt_Customer',\n",
       "       'Kidhome', 'Teenhome', 'MntMeatProducts', 'MntFishProducts',\n",
       "       'MntSweetProducts', 'Marital_Status', 'Education'],\n",
       "      dtype='object')"
      ]
     },
     "execution_count": 132,
     "metadata": {},
     "output_type": "execute_result"
    }
   ],
   "source": [
    "df.columns"
   ]
  },
  {
   "cell_type": "markdown",
   "id": "3a5db5e6",
   "metadata": {},
   "source": [
    "### Question1: How many responses do you get on average every visit?"
   ]
  },
  {
   "cell_type": "code",
   "execution_count": 133,
   "id": "6e47d8fb",
   "metadata": {},
   "outputs": [],
   "source": [
    "df['rate_visits'] = df['Response'] / df['NumWebVisitsMonth']"
   ]
  },
  {
   "cell_type": "code",
   "execution_count": 134,
   "id": "dfee0322",
   "metadata": {},
   "outputs": [
    {
     "data": {
      "text/plain": [
       "2206"
      ]
     },
     "execution_count": 134,
     "metadata": {},
     "output_type": "execute_result"
    }
   ],
   "source": [
    "df['rate_visits'].count()"
   ]
  },
  {
   "cell_type": "code",
   "execution_count": 135,
   "id": "f911b7e4",
   "metadata": {},
   "outputs": [
    {
     "data": {
      "text/plain": [
       "Text(0.5, 1.0, 'Responses per Visit')"
      ]
     },
     "execution_count": 135,
     "metadata": {},
     "output_type": "execute_result"
    },
    {
     "data": {
      "image/png": "[encoded data removed]",
      "text/plain": [
       "<Figure size 432x288 with 1 Axes>"
      ]
     },
     "metadata": {
      "needs_background": "light"
     },
     "output_type": "display_data"
    }
   ],
   "source": [
    "plt.hist(df['rate_visits'])\n",
    "plt.xlabel(\"Rate\")\n",
    "plt.ylabel(\"Count of responses per visit\")\n",
    "plt.title(\"Responses per Visit\")"
   ]
  },
  {
   "cell_type": "code",
   "execution_count": 136,
   "id": "f481db53",
   "metadata": {},
   "outputs": [
    {
     "name": "stdout",
     "output_type": "stream",
     "text": [
      "The average rate of visits: 4.368802976010592 %\n"
     ]
    }
   ],
   "source": [
    "average_rate_visits = df['rate_visits'].mean()\n",
    "\n",
    "print('The average rate of visits: {} %'.format(average_rate_visits*100))"
   ]
  },
  {
   "cell_type": "markdown",
   "id": "a53773e5",
   "metadata": {},
   "source": [
    "From the above pic we can see lot of entries with 0 responses, it might be because that people are visting the platform multiple times before buying the product or there are visiting the web platform to check the product availability and purchasing from in person store."
   ]
  },
  {
   "cell_type": "code",
   "execution_count": 137,
   "id": "d83d944e",
   "metadata": {},
   "outputs": [],
   "source": [
    "temp = df.query('NumWebVisitsMonth > 0')"
   ]
  },
  {
   "cell_type": "code",
   "execution_count": 138,
   "id": "62c9a739",
   "metadata": {},
   "outputs": [
    {
     "name": "stdout",
     "output_type": "stream",
     "text": [
      "The average rate of visits: 15.095194922937443 %\n"
     ]
    }
   ],
   "source": [
    "resp_filter = temp.query('Response > 0').shape[0]\n",
    "average_rate_visits =  resp_filter/ temp.shape[0]\n",
    "print('The average rate of visits: {} %'.format(average_rate_visits*100))"
   ]
  },
  {
   "cell_type": "markdown",
   "id": "ad8433be",
   "metadata": {},
   "source": []
  },
  {
   "cell_type": "markdown",
   "id": "042e560a",
   "metadata": {},
   "source": [
    "### Question 2: Is it possible that income has a significant impact on this rate, or that our items have failed to attract customers?"
   ]
  },
  {
   "cell_type": "code",
   "execution_count": 193,
   "id": "4aef7fd3",
   "metadata": {},
   "outputs": [
    {
     "data": {
      "text/plain": [
       "array([1, 0])"
      ]
     },
     "execution_count": 193,
     "metadata": {},
     "output_type": "execute_result"
    }
   ],
   "source": [
    "df['Response'].unique()"
   ]
  },
  {
   "cell_type": "code",
   "execution_count": 166,
   "id": "9f250b07",
   "metadata": {},
   "outputs": [
    {
     "data": {
      "text/plain": [
       "[(0.0, 150000.0)]"
      ]
     },
     "execution_count": 166,
     "metadata": {},
     "output_type": "execute_result"
    },
    {
     "data": {
      "image/png": "[encoded data removed]",
      "text/plain": [
       "<Figure size 1080x576 with 1 Axes>"
      ]
     },
     "metadata": {},
     "output_type": "display_data"
    }
   ],
   "source": [
    "sns.set(rc = {'figure.figsize':(15,8)})\n",
    "sns.histplot(x=(df['Income']), kde = True ,hue=df['Response']).set(xlim = (0,150000))"
   ]
  },
  {
   "cell_type": "markdown",
   "id": "10df57b9",
   "metadata": {},
   "source": [
    "AS we can see the distributions with 0 and 1 response are showing almost similar trends that means that income is not impacting the pattern of purchasing of products. It might be that the users are not liking the products or the similar products are offered for better prices in other app. If we had competator product pricing we will be able to get a better hang of the reason."
   ]
  },
  {
   "cell_type": "markdown",
   "id": "f93c3b82",
   "metadata": {},
   "source": [
    "### Question3: Is there a substantial link between the number of children  and the amount of sweets customer consumes?"
   ]
  },
  {
   "cell_type": "code",
   "execution_count": 186,
   "id": "4dc46940",
   "metadata": {},
   "outputs": [],
   "source": [
    "df['Kidhome'] = df['Kidhome'].astype('str')"
   ]
  },
  {
   "cell_type": "code",
   "execution_count": 176,
   "id": "cf70221e",
   "metadata": {},
   "outputs": [
    {
     "data": {
      "text/plain": [
       "Text(0.5, 1.0, 'Relation between Sweets and number of kids')"
      ]
     },
     "execution_count": 176,
     "metadata": {},
     "output_type": "execute_result"
    },
    {
     "data": {
      "image/png": "[encoded data removed]",
      "text/plain": [
       "<Figure size 1080x576 with 1 Axes>"
      ]
     },
     "metadata": {},
     "output_type": "display_data"
    }
   ],
   "source": [
    "plt.scatter(y=df['MntSweetProducts'], x=df['Kidhome'],alpha =0.1)\n",
    "plt.xlabel(\"Number of kids\")\n",
    "plt.ylabel(\"Sweet Products\")\n",
    "plt.title(\"Relation between Sweets and number of kids\")"
   ]
  },
  {
   "cell_type": "markdown",
   "id": "cd37b427",
   "metadata": {},
   "source": [
    "As we can see from above the consumers with less number of children are purchasing more sweets i.e., Sweet products have a negative correlation with the number of children a consumer has."
   ]
  },
  {
   "cell_type": "markdown",
   "id": "6ef8f2e9",
   "metadata": {},
   "source": [
    "### Question 4: Assume that everyone is either a child (0-12), a teen (13-20), a young person (21-35), or an elderly person (36+). What is the most common age group that purchases from us?"
   ]
  },
  {
   "cell_type": "code",
   "execution_count": 187,
   "id": "97553fec",
   "metadata": {},
   "outputs": [],
   "source": [
    "df['Dt_Customer'] = pd.to_datetime(data['Dt_Customer'])"
   ]
  },
  {
   "cell_type": "code",
   "execution_count": 188,
   "id": "93cc98bd",
   "metadata": {},
   "outputs": [],
   "source": [
    "df['Age'] = df['Dt_Customer'].dt.year - df['Year_Birth']"
   ]
  },
  {
   "cell_type": "code",
   "execution_count": 189,
   "id": "c92dfe34",
   "metadata": {},
   "outputs": [],
   "source": [
    "df['Age_group'] = 'Child'\n",
    "df.loc[df['Age'] >= 13, 'Age_group'] = 'Teens'\n",
    "df.loc[df['Age'] >= 21, 'Age_group'] = \"Youth\"\n",
    "df.loc[df['Age'] >= 36, 'Age_group'] = \"Old\""
   ]
  },
  {
   "cell_type": "code",
   "execution_count": 190,
   "id": "ccf0da0f",
   "metadata": {},
   "outputs": [],
   "source": [
    "temp = df.groupby(df['Age_group']).count()"
   ]
  },
  {
   "cell_type": "code",
   "execution_count": 191,
   "id": "951f46f2",
   "metadata": {},
   "outputs": [
    {
     "data": {
      "text/plain": [
       "<AxesSubplot:ylabel='Age'>"
      ]
     },
     "execution_count": 191,
     "metadata": {},
     "output_type": "execute_result"
    },
    {
     "data": {
      "image/png": "[encoded data removed]",
      "text/plain": [
       "<Figure size 1080x576 with 1 Axes>"
      ]
     },
     "metadata": {},
     "output_type": "display_data"
    }
   ],
   "source": [
    "temp['Age'].plot.pie(y='count',legend= True,autopct='%1.1f%%')"
   ]
  },
  {
   "cell_type": "code",
   "execution_count": 192,
   "id": "e6856ef5",
   "metadata": {},
   "outputs": [
    {
     "data": {
      "text/plain": [
       "121"
      ]
     },
     "execution_count": 192,
     "metadata": {},
     "output_type": "execute_result"
    }
   ],
   "source": [
    "max(df['Age'])"
   ]
  },
  {
   "cell_type": "markdown",
   "id": "d2fc9b93",
   "metadata": {},
   "source": [
    "As we can see from the above pie chart, 75.5% of the customers who are purchasing are from the age group old i.e., people aging from (36 to 121 years)  "
   ]
  }
 ],
 "metadata": {
  "kernelspec": {
   "display_name": "Python 3",
   "language": "python",
   "name": "python3"
  },
  "language_info": {
   "codemirror_mode": {
    "name": "ipython",
    "version": 3
   },
   "file_extension": ".py",
   "mimetype": "text/x-python",
   "name": "python",
   "nbconvert_exporter": "python",
   "pygments_lexer": "ipython3",
   "version": "3.6.9"
  }
 },
 "nbformat": 4,
 "nbformat_minor": 5
}
